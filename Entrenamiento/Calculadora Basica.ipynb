{
  "nbformat": 4,
  "nbformat_minor": 0,
  "metadata": {
    "colab": {
      "provenance": []
    },
    "kernelspec": {
      "name": "python3",
      "display_name": "Python 3"
    },
    "language_info": {
      "name": "python"
    }
  },
  "cells": [
    {
      "cell_type": "code",
      "source": [
        "nombre=input(\"Ingrese el primer nombre: \")"
      ],
      "metadata": {
        "colab": {
          "base_uri": "https://localhost:8080/"
        },
        "id": "NqtgX65_Jzi_",
        "outputId": "86111786-bcb8-404e-97c4-c29e78cd7b9c"
      },
      "execution_count": null,
      "outputs": [
        {
          "name": "stdout",
          "output_type": "stream",
          "text": [
            "Ingrese el primer nombre: David\n"
          ]
        }
      ]
    },
    {
      "cell_type": "code",
      "source": [
        "nombre"
      ],
      "metadata": {
        "colab": {
          "base_uri": "https://localhost:8080/",
          "height": 35
        },
        "id": "N89kfZatJyQ5",
        "outputId": "90db0402-e76a-42db-da87-c65361954ed4"
      },
      "execution_count": null,
      "outputs": [
        {
          "output_type": "execute_result",
          "data": {
            "text/plain": [
              "'David'"
            ],
            "application/vnd.google.colaboratory.intrinsic+json": {
              "type": "string"
            }
          },
          "metadata": {},
          "execution_count": 36
        }
      ]
    },
    {
      "cell_type": "code",
      "execution_count": null,
      "metadata": {
        "colab": {
          "base_uri": "https://localhost:8080/"
        },
        "id": "VyfRN0jYJwlM",
        "outputId": "0ff2e110-6a33-498a-a566-beec17fc181f"
      },
      "outputs": [
        {
          "name": "stdout",
          "output_type": "stream",
          "text": [
            "Ingrese un numero: 35\n"
          ]
        }
      ],
      "source": [
        "numero=input(\"Ingrese un numero: \")"
      ]
    },
    {
      "cell_type": "code",
      "source": [
        "numero"
      ],
      "metadata": {
        "colab": {
          "base_uri": "https://localhost:8080/",
          "height": 35
        },
        "id": "QnDrjeZNKwIP",
        "outputId": "5b0cff87-f090-4f90-d982-dd588a1bc8ea"
      },
      "execution_count": null,
      "outputs": [
        {
          "output_type": "execute_result",
          "data": {
            "text/plain": [
              "'35'"
            ],
            "application/vnd.google.colaboratory.intrinsic+json": {
              "type": "string"
            }
          },
          "metadata": {},
          "execution_count": 38
        }
      ]
    },
    {
      "cell_type": "code",
      "source": [
        "numero=int(input(\"Ingrese un numero entero: \"))"
      ],
      "metadata": {
        "colab": {
          "base_uri": "https://localhost:8080/"
        },
        "id": "Ewq427VoK5YV",
        "outputId": "f01bdc5e-ce47-4089-bfbb-87179db52da0"
      },
      "execution_count": null,
      "outputs": [
        {
          "name": "stdout",
          "output_type": "stream",
          "text": [
            "Ingrese un numero entero: 33\n"
          ]
        }
      ]
    },
    {
      "cell_type": "code",
      "source": [
        "numero"
      ],
      "metadata": {
        "colab": {
          "base_uri": "https://localhost:8080/"
        },
        "id": "aAkEUa3YLKs8",
        "outputId": "86cc806a-0a63-4569-fcb7-0aff64d87cd4"
      },
      "execution_count": null,
      "outputs": [
        {
          "output_type": "execute_result",
          "data": {
            "text/plain": [
              "33"
            ]
          },
          "metadata": {},
          "execution_count": 40
        }
      ]
    },
    {
      "cell_type": "code",
      "source": [
        "numero=float(input(\"Ingrese un numero: \"))\n"
      ],
      "metadata": {
        "colab": {
          "base_uri": "https://localhost:8080/"
        },
        "id": "cYNoF9D7LgLc",
        "outputId": "e80b0abb-baef-4eb3-9c7b-f492ad000ba4"
      },
      "execution_count": null,
      "outputs": [
        {
          "name": "stdout",
          "output_type": "stream",
          "text": [
            "Ingrese un numero: 23\n"
          ]
        }
      ]
    },
    {
      "cell_type": "code",
      "source": [
        "numero"
      ],
      "metadata": {
        "colab": {
          "base_uri": "https://localhost:8080/"
        },
        "id": "SjlBFgK5Lu1z",
        "outputId": "ac212901-9e73-45c4-8d00-12a7aec8ce4a"
      },
      "execution_count": null,
      "outputs": [
        {
          "output_type": "execute_result",
          "data": {
            "text/plain": [
              "23.0"
            ]
          },
          "metadata": {},
          "execution_count": 42
        }
      ]
    },
    {
      "cell_type": "code",
      "source": [
        "numero=float(input(\"Ingrese un numero: \"))"
      ],
      "metadata": {
        "colab": {
          "base_uri": "https://localhost:8080/"
        },
        "id": "cbQC-nTHMVTH",
        "outputId": "d625177b-1085-4bdb-9b25-5b2eee0945d1"
      },
      "execution_count": null,
      "outputs": [
        {
          "name": "stdout",
          "output_type": "stream",
          "text": [
            "Ingrese un numero: 23\n"
          ]
        }
      ]
    },
    {
      "cell_type": "code",
      "source": [
        "numero"
      ],
      "metadata": {
        "colab": {
          "base_uri": "https://localhost:8080/"
        },
        "id": "lPNTE0GzMmcL",
        "outputId": "22174b36-9656-4e48-e4c2-35317ea2d0d9"
      },
      "execution_count": null,
      "outputs": [
        {
          "output_type": "execute_result",
          "data": {
            "text/plain": [
              "23.0"
            ]
          },
          "metadata": {},
          "execution_count": 44
        }
      ]
    },
    {
      "cell_type": "markdown",
      "source": [
        "# TIPOS DE VARIABLE\n"
      ],
      "metadata": {
        "id": "qfavztf9pllx"
      }
    },
    {
      "cell_type": "markdown",
      "source": [
        "## Manejo de strings"
      ],
      "metadata": {
        "id": "46Crix9btp3g"
      }
    },
    {
      "cell_type": "code",
      "source": [
        "\n",
        "nombre = \"David\"\n",
        "primer_apellido = \"Ramirez\"\n",
        "nombre_completo = nombre + primer_apellido\n",
        "genero = \"M\"\n",
        "direccion = \"Calle 13 6 E 04\"\n",
        "estado_civil = [\"Soltero\", \"Casado\", \"Union Libre\",\"Otro\"]\n"
      ],
      "metadata": {
        "id": "Qxk_enKSrUDx"
      },
      "execution_count": null,
      "outputs": []
    },
    {
      "cell_type": "code",
      "source": [
        "estado_civil[2] = \"Divorciado\""
      ],
      "metadata": {
        "id": "4eezxpQICKua"
      },
      "execution_count": null,
      "outputs": []
    },
    {
      "cell_type": "code",
      "source": [
        "estado_civil[2]"
      ],
      "metadata": {
        "id": "Tw2hpUjxCw2n",
        "colab": {
          "base_uri": "https://localhost:8080/",
          "height": 35
        },
        "outputId": "12ca4990-ff36-46e9-918c-5ce4d7bc1b23"
      },
      "execution_count": null,
      "outputs": [
        {
          "output_type": "execute_result",
          "data": {
            "text/plain": [
              "'Divorciado'"
            ],
            "application/vnd.google.colaboratory.intrinsic+json": {
              "type": "string"
            }
          },
          "metadata": {},
          "execution_count": 47
        }
      ]
    },
    {
      "cell_type": "markdown",
      "source": [
        "## Manejo de Numeros"
      ],
      "metadata": {
        "id": "BalEeTUztw1Y"
      }
    },
    {
      "cell_type": "code",
      "source": [
        "edad = 34\n",
        "estatura = 1.79"
      ],
      "metadata": {
        "id": "GjAGLYXnt2yk"
      },
      "execution_count": null,
      "outputs": []
    },
    {
      "cell_type": "code",
      "source": [
        "edad"
      ],
      "metadata": {
        "colab": {
          "base_uri": "https://localhost:8080/"
        },
        "id": "dfZVkkOJLCCr",
        "outputId": "6a38e8ef-1f25-4ca9-84fb-615033c52db1"
      },
      "execution_count": null,
      "outputs": [
        {
          "output_type": "execute_result",
          "data": {
            "text/plain": [
              "34"
            ]
          },
          "metadata": {},
          "execution_count": 49
        }
      ]
    },
    {
      "cell_type": "code",
      "source": [
        "print(estatura)"
      ],
      "metadata": {
        "colab": {
          "base_uri": "https://localhost:8080/"
        },
        "id": "7MbKGwJsm7lH",
        "outputId": "a1cc7baf-25ab-4f02-9293-5d341dc435e9"
      },
      "execution_count": null,
      "outputs": [
        {
          "output_type": "stream",
          "name": "stdout",
          "text": [
            "1.79\n"
          ]
        }
      ]
    },
    {
      "cell_type": "code",
      "source": [
        "print(direccion)"
      ],
      "metadata": {
        "colab": {
          "base_uri": "https://localhost:8080/"
        },
        "id": "wdemn9p-nHrm",
        "outputId": "934d188e-689e-470a-9866-4b5e6a1ec0df"
      },
      "execution_count": null,
      "outputs": [
        {
          "output_type": "stream",
          "name": "stdout",
          "text": [
            "Calle 13 6 E 04\n"
          ]
        }
      ]
    },
    {
      "cell_type": "markdown",
      "source": [],
      "metadata": {
        "id": "CM-ybMRJrJV9"
      }
    },
    {
      "cell_type": "markdown",
      "source": [
        "#LISTADO DE PRECIOS"
      ],
      "metadata": {
        "id": "zTc0AvFSNSK-"
      }
    },
    {
      "cell_type": "code",
      "source": [],
      "metadata": {
        "id": "mYIeNNVGNVUt"
      },
      "execution_count": null,
      "outputs": []
    },
    {
      "cell_type": "markdown",
      "source": [
        "#Ejemplo de Calculadora Sencilla si el uso de funciones (+,-,*,/) por David Ramirez"
      ],
      "metadata": {
        "id": "rUBxEg_XtV0G"
      }
    },
    {
      "cell_type": "code",
      "source": [
        "import math\n",
        "\n",
        "print(\"Ejemplo de Calculadora Sencilla (+,-,*,/) por David Ramirez\")\n",
        "print(\"MENU\")\n",
        "print(\"1: Suma:+\")\n",
        "print(\"2: -\")\n",
        "print(\"3: *\")\n",
        "print(\"4: Division (/)\")\n",
        "\n",
        "\n",
        "print()\n",
        "opcion=input(\"Ingrese la opcion deseada del menú: \")\n",
        "numero_1=float(input(\"Ingrese el primer numero de la operación: \"))\n",
        "numero_2=float(input(\"Ingrese el segundo numero de la operación: \"))\n",
        "\n",
        "if opcion == \"1\":\n",
        "  print(\"vamos a sumar (+) los dos valores ingresados\")\n",
        "  print(\"El resultado de la suma es: \",numero_1+numero_2)\n",
        "\n",
        "if opcion == \"2\":\n",
        "  print(\"vamos a restar (-) los dos valores ingresados: \\n \")\n",
        "  resta=numero_1-numero_2\n",
        "  print(\"Resultado= \",resta)\n",
        "\n",
        "if opcion == \"3\":\n",
        "  print(\"Vamos a multiplicar (*) dosdos valores ingregados: \\n\")\n",
        "  mult=numero_1*numero_2\n",
        "  print(f\"{numero_1})*{numero_2}={mult}\")\n",
        "\n",
        "if opcion == \"4\" or opcion=='/' or opcion=='Dividir':\n",
        "  print(\"Vamos a dividir(/) los dos valores ingresados:\\n\")\n",
        "  if numero_2!=0:\n",
        "    print(numero_1/numero_2)\n",
        "  else:\n",
        "    print(\"¡No es posible dividir entre cero!\")\n",
        "\n",
        "\n"
      ],
      "metadata": {
        "colab": {
          "base_uri": "https://localhost:8080/",
          "height": 384
        },
        "id": "bAVRTq5eySxU",
        "outputId": "62b7f1b6-a882-40ec-8355-8f5353e73646"
      },
      "execution_count": 12,
      "outputs": [
        {
          "output_type": "stream",
          "name": "stdout",
          "text": [
            "Ejemplo de Calculadora Sencilla (+,-,*,/) por David Ramirez\n",
            "MENU\n",
            "1: Suma:+\n",
            "2: -\n",
            "3: *\n",
            "4: Division (/)\n",
            "\n",
            "Ingrese la opcion deseada del menú: 1\n",
            "Ingrese el primer numero de la operación: 576\n",
            "Ingrese el segundo numero de la operación: 412\n",
            "vamos a sumar (+) los dos valores ingresados\n",
            "El resultado de la suma es:  988.0\n"
          ]
        },
        {
          "output_type": "error",
          "ename": "NameError",
          "evalue": "name 'llamar_funciones' is not defined",
          "traceback": [
            "\u001b[0;31m---------------------------------------------------------------------------\u001b[0m",
            "\u001b[0;31mNameError\u001b[0m                                 Traceback (most recent call last)",
            "\u001b[0;32m/tmp/ipython-input-33447205.py\u001b[0m in \u001b[0;36m<cell line: 0>\u001b[0;34m()\u001b[0m\n\u001b[1;32m     35\u001b[0m     \u001b[0mprint\u001b[0m\u001b[0;34m(\u001b[0m\u001b[0;34m\"¡No es posible dividir entre cero!\"\u001b[0m\u001b[0;34m)\u001b[0m\u001b[0;34m\u001b[0m\u001b[0;34m\u001b[0m\u001b[0m\n\u001b[1;32m     36\u001b[0m \u001b[0;34m\u001b[0m\u001b[0m\n\u001b[0;32m---> 37\u001b[0;31m \u001b[0mllamar_funciones\u001b[0m \u001b[0;34m(\u001b[0m\u001b[0;34m)\u001b[0m\u001b[0;34m\u001b[0m\u001b[0;34m\u001b[0m\u001b[0m\n\u001b[0m",
            "\u001b[0;31mNameError\u001b[0m: name 'llamar_funciones' is not defined"
          ]
        }
      ]
    }
  ]
}